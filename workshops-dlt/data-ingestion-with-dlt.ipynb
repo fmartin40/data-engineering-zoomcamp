{
 "cells": [
  {
   "cell_type": "code",
   "execution_count": 1,
   "id": "a3538eef-62e7-475d-8f81-12734c01834c",
   "metadata": {},
   "outputs": [
    {
     "name": "stdout",
     "output_type": "stream",
     "text": [
      "Collecting dlt[duckdb]\n",
      "  Using cached dlt-1.6.1-py3-none-any.whl.metadata (11 kB)\n",
      "Collecting PyYAML>=5.4.1 (from dlt[duckdb])\n",
      "  Downloading PyYAML-6.0.2-cp312-cp312-win_amd64.whl.metadata (2.1 kB)\n",
      "Collecting click>=7.1 (from dlt[duckdb])\n",
      "  Downloading click-8.1.8-py3-none-any.whl.metadata (2.3 kB)\n",
      "Collecting duckdb>=0.9 (from dlt[duckdb])\n",
      "  Using cached duckdb-1.2.0-cp312-cp312-win_amd64.whl.metadata (995 bytes)\n",
      "Collecting fsspec>=2022.4.0 (from dlt[duckdb])\n",
      "  Downloading fsspec-2025.2.0-py3-none-any.whl.metadata (11 kB)\n",
      "Collecting gitpython>=3.1.29 (from dlt[duckdb])\n",
      "  Using cached GitPython-3.1.44-py3-none-any.whl.metadata (13 kB)\n",
      "Collecting giturlparse>=0.10.0 (from dlt[duckdb])\n",
      "  Using cached giturlparse-0.12.0-py2.py3-none-any.whl.metadata (4.5 kB)\n",
      "Collecting hexbytes>=0.2.2 (from dlt[duckdb])\n",
      "  Using cached hexbytes-1.3.0-py3-none-any.whl.metadata (3.3 kB)\n",
      "Collecting humanize>=4.4.0 (from dlt[duckdb])\n",
      "  Using cached humanize-4.12.0-py3-none-any.whl.metadata (7.8 kB)\n",
      "Collecting jsonpath-ng>=1.5.3 (from dlt[duckdb])\n",
      "  Using cached jsonpath_ng-1.7.0-py3-none-any.whl.metadata (18 kB)\n",
      "Collecting makefun>=1.15.0 (from dlt[duckdb])\n",
      "  Using cached makefun-1.15.6-py2.py3-none-any.whl.metadata (3.2 kB)\n",
      "Collecting orjson!=3.10.1,!=3.9.11,!=3.9.12,!=3.9.13,!=3.9.14,<4,>=3.6.7 (from dlt[duckdb])\n",
      "  Using cached orjson-3.10.15-cp312-cp312-win_amd64.whl.metadata (42 kB)\n",
      "Collecting packaging>=21.1 (from dlt[duckdb])\n",
      "  Downloading packaging-24.2-py3-none-any.whl.metadata (3.2 kB)\n",
      "Collecting pathvalidate>=2.5.2 (from dlt[duckdb])\n",
      "  Using cached pathvalidate-3.2.3-py3-none-any.whl.metadata (12 kB)\n",
      "Collecting pendulum>=2.1.2 (from dlt[duckdb])\n",
      "  Using cached pendulum-3.0.0-cp312-none-win_amd64.whl.metadata (7.0 kB)\n",
      "Collecting pluggy>=1.3.0 (from dlt[duckdb])\n",
      "  Using cached pluggy-1.5.0-py3-none-any.whl.metadata (4.8 kB)\n",
      "Collecting pytz>=2022.6 (from dlt[duckdb])\n",
      "  Downloading pytz-2025.1-py2.py3-none-any.whl.metadata (22 kB)\n",
      "Collecting pywin32>=306 (from dlt[duckdb])\n",
      "  Downloading pywin32-308-cp312-cp312-win_amd64.whl.metadata (8.3 kB)\n",
      "Requirement already satisfied: requests>=2.26.0 in c:\\users\\pc\\documents\\github\\data-engineering-zoomcamp\\venv\\lib\\site-packages (from dlt[duckdb]) (2.32.3)\n",
      "Collecting requirements-parser>=0.5.0 (from dlt[duckdb])\n",
      "  Using cached requirements_parser-0.11.0-py3-none-any.whl.metadata (4.7 kB)\n",
      "Collecting rich-argparse<2.0.0,>=1.6.0 (from dlt[duckdb])\n",
      "  Using cached rich_argparse-1.7.0-py3-none-any.whl.metadata (14 kB)\n",
      "Collecting semver>=3.0.0 (from dlt[duckdb])\n",
      "  Using cached semver-3.0.4-py3-none-any.whl.metadata (6.8 kB)\n",
      "Collecting setuptools>=65.6.0 (from dlt[duckdb])\n",
      "  Using cached setuptools-75.8.0-py3-none-any.whl.metadata (6.7 kB)\n",
      "Collecting simplejson>=3.17.5 (from dlt[duckdb])\n",
      "  Using cached simplejson-3.20.1-cp312-cp312-win_amd64.whl.metadata (3.4 kB)\n",
      "Collecting tenacity>=8.0.2 (from dlt[duckdb])\n",
      "  Using cached tenacity-9.0.0-py3-none-any.whl.metadata (1.2 kB)\n",
      "Collecting tomlkit>=0.11.3 (from dlt[duckdb])\n",
      "  Using cached tomlkit-0.13.2-py3-none-any.whl.metadata (2.7 kB)\n",
      "Collecting typing-extensions>=4.8.0 (from dlt[duckdb])\n",
      "  Downloading typing_extensions-4.12.2-py3-none-any.whl.metadata (3.0 kB)\n",
      "Collecting tzdata>=2022.1 (from dlt[duckdb])\n",
      "  Downloading tzdata-2025.1-py2.py3-none-any.whl.metadata (1.4 kB)\n",
      "Collecting win-precise-time>=1.4.2 (from dlt[duckdb])\n",
      "  Using cached win_precise_time-1.4.2-cp312-cp312-win_amd64.whl.metadata (3.0 kB)\n",
      "Collecting colorama (from click>=7.1->dlt[duckdb])\n",
      "  Downloading colorama-0.4.6-py2.py3-none-any.whl.metadata (17 kB)\n",
      "Collecting gitdb<5,>=4.0.1 (from gitpython>=3.1.29->dlt[duckdb])\n",
      "  Using cached gitdb-4.0.12-py3-none-any.whl.metadata (1.2 kB)\n",
      "Collecting ply (from jsonpath-ng>=1.5.3->dlt[duckdb])\n",
      "  Using cached ply-3.11-py2.py3-none-any.whl.metadata (844 bytes)\n",
      "Collecting python-dateutil>=2.6 (from pendulum>=2.1.2->dlt[duckdb])\n",
      "  Downloading python_dateutil-2.9.0.post0-py2.py3-none-any.whl.metadata (8.4 kB)\n",
      "Collecting time-machine>=2.6.0 (from pendulum>=2.1.2->dlt[duckdb])\n",
      "  Using cached time_machine-2.16.0-cp312-cp312-win_amd64.whl.metadata (21 kB)\n",
      "Requirement already satisfied: charset-normalizer<4,>=2 in c:\\users\\pc\\documents\\github\\data-engineering-zoomcamp\\venv\\lib\\site-packages (from requests>=2.26.0->dlt[duckdb]) (3.4.1)\n",
      "Requirement already satisfied: idna<4,>=2.5 in c:\\users\\pc\\documents\\github\\data-engineering-zoomcamp\\venv\\lib\\site-packages (from requests>=2.26.0->dlt[duckdb]) (3.10)\n",
      "Requirement already satisfied: urllib3<3,>=1.21.1 in c:\\users\\pc\\documents\\github\\data-engineering-zoomcamp\\venv\\lib\\site-packages (from requests>=2.26.0->dlt[duckdb]) (2.3.0)\n",
      "Requirement already satisfied: certifi>=2017.4.17 in c:\\users\\pc\\documents\\github\\data-engineering-zoomcamp\\venv\\lib\\site-packages (from requests>=2.26.0->dlt[duckdb]) (2025.1.31)\n",
      "Collecting types-setuptools>=69.1.0 (from requirements-parser>=0.5.0->dlt[duckdb])\n",
      "  Using cached types_setuptools-75.8.0.20250210-py3-none-any.whl.metadata (2.2 kB)\n",
      "Collecting rich>=11.0.0 (from rich-argparse<2.0.0,>=1.6.0->dlt[duckdb])\n",
      "  Using cached rich-13.9.4-py3-none-any.whl.metadata (18 kB)\n",
      "Collecting smmap<6,>=3.0.1 (from gitdb<5,>=4.0.1->gitpython>=3.1.29->dlt[duckdb])\n",
      "  Using cached smmap-5.0.2-py3-none-any.whl.metadata (4.3 kB)\n",
      "Collecting six>=1.5 (from python-dateutil>=2.6->pendulum>=2.1.2->dlt[duckdb])\n",
      "  Downloading six-1.17.0-py2.py3-none-any.whl.metadata (1.7 kB)\n",
      "Collecting markdown-it-py>=2.2.0 (from rich>=11.0.0->rich-argparse<2.0.0,>=1.6.0->dlt[duckdb])\n",
      "  Using cached markdown_it_py-3.0.0-py3-none-any.whl.metadata (6.9 kB)\n",
      "Collecting pygments<3.0.0,>=2.13.0 (from rich>=11.0.0->rich-argparse<2.0.0,>=1.6.0->dlt[duckdb])\n",
      "  Downloading pygments-2.19.1-py3-none-any.whl.metadata (2.5 kB)\n",
      "Collecting mdurl~=0.1 (from markdown-it-py>=2.2.0->rich>=11.0.0->rich-argparse<2.0.0,>=1.6.0->dlt[duckdb])\n",
      "  Using cached mdurl-0.1.2-py3-none-any.whl.metadata (1.6 kB)\n",
      "Downloading click-8.1.8-py3-none-any.whl (98 kB)\n",
      "Using cached duckdb-1.2.0-cp312-cp312-win_amd64.whl (11.4 MB)\n",
      "Downloading fsspec-2025.2.0-py3-none-any.whl (184 kB)\n",
      "Using cached GitPython-3.1.44-py3-none-any.whl (207 kB)\n",
      "Using cached giturlparse-0.12.0-py2.py3-none-any.whl (15 kB)\n",
      "Using cached hexbytes-1.3.0-py3-none-any.whl (4.9 kB)\n",
      "Using cached humanize-4.12.0-py3-none-any.whl (127 kB)\n",
      "Using cached jsonpath_ng-1.7.0-py3-none-any.whl (30 kB)\n",
      "Using cached makefun-1.15.6-py2.py3-none-any.whl (22 kB)\n",
      "Using cached orjson-3.10.15-cp312-cp312-win_amd64.whl (133 kB)\n",
      "Downloading packaging-24.2-py3-none-any.whl (65 kB)\n",
      "Using cached pathvalidate-3.2.3-py3-none-any.whl (24 kB)\n",
      "Using cached pendulum-3.0.0-cp312-none-win_amd64.whl (293 kB)\n",
      "Using cached pluggy-1.5.0-py3-none-any.whl (20 kB)\n",
      "Downloading pytz-2025.1-py2.py3-none-any.whl (507 kB)\n",
      "Downloading pywin32-308-cp312-cp312-win_amd64.whl (6.5 MB)\n",
      "   ---------------------------------------- 0.0/6.5 MB ? eta -:--:--\n",
      "   ----------------------------------- ---- 5.8/6.5 MB 27.1 MB/s eta 0:00:01\n",
      "   ---------------------------------------- 6.5/6.5 MB 25.1 MB/s eta 0:00:00\n",
      "Downloading PyYAML-6.0.2-cp312-cp312-win_amd64.whl (156 kB)\n",
      "Using cached requirements_parser-0.11.0-py3-none-any.whl (14 kB)\n",
      "Using cached rich_argparse-1.7.0-py3-none-any.whl (25 kB)\n",
      "Using cached semver-3.0.4-py3-none-any.whl (17 kB)\n",
      "Using cached setuptools-75.8.0-py3-none-any.whl (1.2 MB)\n",
      "Using cached simplejson-3.20.1-cp312-cp312-win_amd64.whl (75 kB)\n",
      "Using cached tenacity-9.0.0-py3-none-any.whl (28 kB)\n",
      "Using cached tomlkit-0.13.2-py3-none-any.whl (37 kB)\n",
      "Downloading typing_extensions-4.12.2-py3-none-any.whl (37 kB)\n",
      "Downloading tzdata-2025.1-py2.py3-none-any.whl (346 kB)\n",
      "Using cached win_precise_time-1.4.2-cp312-cp312-win_amd64.whl (14 kB)\n",
      "Using cached dlt-1.6.1-py3-none-any.whl (884 kB)\n",
      "Using cached gitdb-4.0.12-py3-none-any.whl (62 kB)\n",
      "Downloading python_dateutil-2.9.0.post0-py2.py3-none-any.whl (229 kB)\n",
      "Using cached rich-13.9.4-py3-none-any.whl (242 kB)\n",
      "Using cached time_machine-2.16.0-cp312-cp312-win_amd64.whl (19 kB)\n",
      "Using cached types_setuptools-75.8.0.20250210-py3-none-any.whl (71 kB)\n",
      "Downloading colorama-0.4.6-py2.py3-none-any.whl (25 kB)\n",
      "Using cached ply-3.11-py2.py3-none-any.whl (49 kB)\n",
      "Using cached markdown_it_py-3.0.0-py3-none-any.whl (87 kB)\n",
      "Downloading pygments-2.19.1-py3-none-any.whl (1.2 MB)\n",
      "   ---------------------------------------- 0.0/1.2 MB ? eta -:--:--\n",
      "   ---------------------------------------- 1.2/1.2 MB 15.3 MB/s eta 0:00:00\n",
      "Downloading six-1.17.0-py2.py3-none-any.whl (11 kB)\n",
      "Using cached smmap-5.0.2-py3-none-any.whl (24 kB)\n",
      "Using cached mdurl-0.1.2-py3-none-any.whl (10.0 kB)\n",
      "Installing collected packages: pywin32, pytz, ply, makefun, win-precise-time, tzdata, typing-extensions, types-setuptools, tomlkit, tenacity, smmap, six, simplejson, setuptools, semver, PyYAML, pygments, pluggy, pathvalidate, packaging, orjson, mdurl, jsonpath-ng, humanize, hexbytes, giturlparse, fsspec, duckdb, colorama, requirements-parser, python-dateutil, markdown-it-py, gitdb, click, time-machine, rich, gitpython, rich-argparse, pendulum, dlt\n",
      "Successfully installed PyYAML-6.0.2 click-8.1.8 colorama-0.4.6 dlt-1.6.1 duckdb-1.2.0 fsspec-2025.2.0 gitdb-4.0.12 gitpython-3.1.44 giturlparse-0.12.0 hexbytes-1.3.0 humanize-4.12.0 jsonpath-ng-1.7.0 makefun-1.15.6 markdown-it-py-3.0.0 mdurl-0.1.2 orjson-3.10.15 packaging-24.2 pathvalidate-3.2.3 pendulum-3.0.0 pluggy-1.5.0 ply-3.11 pygments-2.19.1 python-dateutil-2.9.0.post0 pytz-2025.1 pywin32-308 requirements-parser-0.11.0 rich-13.9.4 rich-argparse-1.7.0 semver-3.0.4 setuptools-75.8.0 simplejson-3.20.1 six-1.17.0 smmap-5.0.2 tenacity-9.0.0 time-machine-2.16.0 tomlkit-0.13.2 types-setuptools-75.8.0.20250210 typing-extensions-4.12.2 tzdata-2025.1 win-precise-time-1.4.2\n"
     ]
    }
   ],
   "source": [
    "!pip install dlt[duckdb]\n"
   ]
  },
  {
   "cell_type": "code",
   "execution_count": 2,
   "id": "6ab69d90-4406-4711-b011-671a737d3f3a",
   "metadata": {},
   "outputs": [
    {
     "name": "stdout",
     "output_type": "stream",
     "text": [
      "\u001b[39mdlt 1.6.1\u001b[0m\n"
     ]
    }
   ],
   "source": [
    "!dlt --version"
   ]
  },
  {
   "cell_type": "code",
   "execution_count": 3,
   "id": "4613ec50-11af-4e61-880d-41d1b9bdf7f7",
   "metadata": {},
   "outputs": [
    {
     "name": "stdout",
     "output_type": "stream",
     "text": [
      "dlt version: 1.6.1\n"
     ]
    }
   ],
   "source": [
    "import dlt\n",
    "print(\"dlt version:\", dlt.__version__)"
   ]
  },
  {
   "cell_type": "code",
   "execution_count": 5,
   "id": "1609c917-2083-4d76-9f40-5d858a5050e8",
   "metadata": {},
   "outputs": [],
   "source": [
    "import dlt\n",
    "from dlt.sources.helpers.rest_client import RESTClient\n",
    "from dlt.sources.helpers.rest_client.paginators import PageNumberPaginator\n",
    "\n",
    "# Define the API resource for NYC taxi data\n",
    "@dlt.resource(name=\"rides\")   # <--- The name of the resource (will be used as the table name)\n",
    "def ny_taxi():\n",
    "    client = RESTClient(\n",
    "        base_url=\"https://us-central1-dlthub-analytics.cloudfunctions.net\",\n",
    "        paginator=PageNumberPaginator(\n",
    "            base_page=1,\n",
    "            total_path=None\n",
    "        )\n",
    "    )\n",
    "\n",
    "    for page in client.paginate(\"data_engineering_zoomcamp_api\"):    # <--- API endpoint for retrieving taxi ride data\n",
    "        yield page   # <--- yield data to manage memory\n",
    "\n",
    "pipeline = dlt.pipeline(\n",
    "    pipeline_name=\"ny_taxi_pipeline\",\n",
    "    destination=\"duckdb\",\n",
    "    dataset_name=\"ny_taxi_data\"\n",
    ")"
   ]
  },
  {
   "cell_type": "code",
   "execution_count": 6,
   "id": "5ee48c2e-4173-4a1b-b039-4bcb66ff38c9",
   "metadata": {},
   "outputs": [
    {
     "name": "stdout",
     "output_type": "stream",
     "text": [
      "Pipeline ny_taxi_pipeline load step completed in 2.51 seconds\n",
      "1 load package(s) were loaded to destination duckdb and into dataset ny_taxi_data\n",
      "The duckdb destination used duckdb:///C:\\Users\\pc\\Documents\\GitHub\\data-engineering-zoomcamp\\workshops-dlt\\ny_taxi_pipeline.duckdb location to store data\n",
      "Load package 1739795617.6136181 is LOADED and contains no failed jobs\n"
     ]
    }
   ],
   "source": [
    "load_info = pipeline.run(ny_taxi)\n",
    "print(load_info)"
   ]
  },
  {
   "cell_type": "code",
   "execution_count": 9,
   "id": "5ac63be4-09ad-47ca-bc0a-19526dcdf6e3",
   "metadata": {},
   "outputs": [
    {
     "data": {
      "text/html": [
       "<div>\n",
       "<style scoped>\n",
       "    .dataframe tbody tr th:only-of-type {\n",
       "        vertical-align: middle;\n",
       "    }\n",
       "\n",
       "    .dataframe tbody tr th {\n",
       "        vertical-align: top;\n",
       "    }\n",
       "\n",
       "    .dataframe thead th {\n",
       "        text-align: right;\n",
       "    }\n",
       "</style>\n",
       "<table border=\"1\" class=\"dataframe\">\n",
       "  <thead>\n",
       "    <tr style=\"text-align: right;\">\n",
       "      <th></th>\n",
       "      <th>database</th>\n",
       "      <th>schema</th>\n",
       "      <th>name</th>\n",
       "      <th>column_names</th>\n",
       "      <th>column_types</th>\n",
       "      <th>temporary</th>\n",
       "    </tr>\n",
       "  </thead>\n",
       "  <tbody>\n",
       "    <tr>\n",
       "      <th>0</th>\n",
       "      <td>ny_taxi_pipeline</td>\n",
       "      <td>ny_taxi_data</td>\n",
       "      <td>_dlt_loads</td>\n",
       "      <td>[load_id, schema_name, status, inserted_at, sc...</td>\n",
       "      <td>[VARCHAR, VARCHAR, BIGINT, TIMESTAMP WITH TIME...</td>\n",
       "      <td>False</td>\n",
       "    </tr>\n",
       "    <tr>\n",
       "      <th>1</th>\n",
       "      <td>ny_taxi_pipeline</td>\n",
       "      <td>ny_taxi_data</td>\n",
       "      <td>_dlt_pipeline_state</td>\n",
       "      <td>[version, engine_version, pipeline_name, state...</td>\n",
       "      <td>[BIGINT, BIGINT, VARCHAR, VARCHAR, TIMESTAMP W...</td>\n",
       "      <td>False</td>\n",
       "    </tr>\n",
       "    <tr>\n",
       "      <th>2</th>\n",
       "      <td>ny_taxi_pipeline</td>\n",
       "      <td>ny_taxi_data</td>\n",
       "      <td>_dlt_version</td>\n",
       "      <td>[version, engine_version, inserted_at, schema_...</td>\n",
       "      <td>[BIGINT, BIGINT, TIMESTAMP WITH TIME ZONE, VAR...</td>\n",
       "      <td>False</td>\n",
       "    </tr>\n",
       "    <tr>\n",
       "      <th>3</th>\n",
       "      <td>ny_taxi_pipeline</td>\n",
       "      <td>ny_taxi_data</td>\n",
       "      <td>rides</td>\n",
       "      <td>[end_lat, end_lon, fare_amt, passenger_count, ...</td>\n",
       "      <td>[DOUBLE, DOUBLE, DOUBLE, BIGINT, VARCHAR, DOUB...</td>\n",
       "      <td>False</td>\n",
       "    </tr>\n",
       "  </tbody>\n",
       "</table>\n",
       "</div>"
      ],
      "text/plain": [
       "           database        schema                 name  \\\n",
       "0  ny_taxi_pipeline  ny_taxi_data           _dlt_loads   \n",
       "1  ny_taxi_pipeline  ny_taxi_data  _dlt_pipeline_state   \n",
       "2  ny_taxi_pipeline  ny_taxi_data         _dlt_version   \n",
       "3  ny_taxi_pipeline  ny_taxi_data                rides   \n",
       "\n",
       "                                        column_names  \\\n",
       "0  [load_id, schema_name, status, inserted_at, sc...   \n",
       "1  [version, engine_version, pipeline_name, state...   \n",
       "2  [version, engine_version, inserted_at, schema_...   \n",
       "3  [end_lat, end_lon, fare_amt, passenger_count, ...   \n",
       "\n",
       "                                        column_types  temporary  \n",
       "0  [VARCHAR, VARCHAR, BIGINT, TIMESTAMP WITH TIME...      False  \n",
       "1  [BIGINT, BIGINT, VARCHAR, VARCHAR, TIMESTAMP W...      False  \n",
       "2  [BIGINT, BIGINT, TIMESTAMP WITH TIME ZONE, VAR...      False  \n",
       "3  [DOUBLE, DOUBLE, DOUBLE, BIGINT, VARCHAR, DOUB...      False  "
      ]
     },
     "execution_count": 9,
     "metadata": {},
     "output_type": "execute_result"
    }
   ],
   "source": [
    "import duckdb\n",
    "\n",
    "# A database '.duckdb' was created in working directory so just connect to it\n",
    "\n",
    "# Connect to the DuckDB database\n",
    "conn = duckdb.connect(f\"{pipeline.pipeline_name}.duckdb\")\n",
    "\n",
    "# Set search path to the dataset\n",
    "conn.sql(f\"SET search_path = '{pipeline.dataset_name}'\")\n",
    "\n",
    "# Describe the dataset\n",
    "conn.sql(\"DESCRIBE\").df()"
   ]
  },
  {
   "cell_type": "code",
   "execution_count": 10,
   "id": "992ce0b9-7522-46e6-a8c5-49f74f5846c8",
   "metadata": {},
   "outputs": [
    {
     "data": {
      "text/plain": [
       "┌──────────┐\n",
       "│ count(1) │\n",
       "│  int64   │\n",
       "├──────────┤\n",
       "│    10000 │\n",
       "└──────────┘"
      ]
     },
     "execution_count": 10,
     "metadata": {},
     "output_type": "execute_result"
    }
   ],
   "source": [
    "conn.sql(\"select count(1) from rides\")"
   ]
  },
  {
   "cell_type": "code",
   "execution_count": 11,
   "id": "5f360c3b-18fa-459a-93fd-6a833f7f9c24",
   "metadata": {},
   "outputs": [
    {
     "name": "stdout",
     "output_type": "stream",
     "text": [
      "[(12.3049,)]\n"
     ]
    }
   ],
   "source": [
    "with pipeline.sql_client() as client:\n",
    "    res = client.execute_sql(\n",
    "            \"\"\"\n",
    "            SELECT\n",
    "            AVG(date_diff('minute', trip_pickup_date_time, trip_dropoff_date_time))\n",
    "            FROM rides;\n",
    "            \"\"\"\n",
    "        )\n",
    "    # Prints column values of the first row\n",
    "    print(res)"
   ]
  },
  {
   "cell_type": "code",
   "execution_count": null,
   "id": "b1070693-fe86-4f89-a896-75481100e9a3",
   "metadata": {},
   "outputs": [],
   "source": []
  }
 ],
 "metadata": {
  "kernelspec": {
   "display_name": "Python 3 (ipykernel)",
   "language": "python",
   "name": "python3"
  },
  "language_info": {
   "codemirror_mode": {
    "name": "ipython",
    "version": 3
   },
   "file_extension": ".py",
   "mimetype": "text/x-python",
   "name": "python",
   "nbconvert_exporter": "python",
   "pygments_lexer": "ipython3",
   "version": "3.12.6"
  }
 },
 "nbformat": 4,
 "nbformat_minor": 5
}
